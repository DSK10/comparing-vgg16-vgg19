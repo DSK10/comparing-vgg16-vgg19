{
  "nbformat": 4,
  "nbformat_minor": 0,
  "metadata": {
    "colab": {
      "name": "Image_rec_pre-trained-models",
      "provenance": [],
      "authorship_tag": "ABX9TyNPLdPsq0lWuWuSiE67ayi4"
    },
    "kernelspec": {
      "name": "python3",
      "display_name": "Python 3"
    },
    "language_info": {
      "name": "python"
    }
  },
  "cells": [
    {
      "cell_type": "code",
      "metadata": {
        "id": "zpeeJLDpQzO_"
      },
      "source": [
        "import numpy as np\n",
        "from keras.preprocessing import image\n",
        "from keras.applications import vgg19, vgg16"
      ],
      "execution_count": null,
      "outputs": []
    },
    {
      "cell_type": "code",
      "metadata": {
        "colab": {
          "base_uri": "https://localhost:8080/"
        },
        "id": "bg7nCouiR8T3",
        "outputId": "b36df448-6445-479e-dc03-c15c8bea557b"
      },
      "source": [
        "model_1 = vgg19.VGG19()\n",
        "model_2 = vgg16.VGG16()"
      ],
      "execution_count": null,
      "outputs": [
        {
          "output_type": "stream",
          "name": "stdout",
          "text": [
            "Downloading data from https://storage.googleapis.com/tensorflow/keras-applications/vgg16/vgg16_weights_tf_dim_ordering_tf_kernels.h5\n",
            "553467904/553467096 [==============================] - 4s 0us/step\n",
            "553476096/553467096 [==============================] - 4s 0us/step\n"
          ]
        }
      ]
    },
    {
      "cell_type": "code",
      "metadata": {
        "id": "jHYP_G0MSDRS"
      },
      "source": [
        "img = image.load_img(\"dog.png\", target_size=(224,224))"
      ],
      "execution_count": null,
      "outputs": []
    },
    {
      "cell_type": "code",
      "metadata": {
        "colab": {
          "base_uri": "https://localhost:8080/",
          "height": 241
        },
        "id": "u7c--ioiSce-",
        "outputId": "9809fb8b-fd4b-4851-d0a5-388d886cc2ca"
      },
      "source": [
        "img"
      ],
      "execution_count": null,
      "outputs": [
        {
          "output_type": "execute_result",
          "data": {
            "image/png": "[encoded data removed]",
            "text/plain": [
              "<PIL.Image.Image image mode=RGB size=224x224 at 0x7FDD8A9E0C50>"
            ]
          },
          "metadata": {},
          "execution_count": 14
        }
      ]
    },
    {
      "cell_type": "code",
      "metadata": {
        "colab": {
          "base_uri": "https://localhost:8080/"
        },
        "id": "11-evP6TSor2",
        "outputId": "58534b75-867d-47bb-ac9a-193ec266389b"
      },
      "source": [
        "# Convert the image to a numpy array\n",
        "x = image.img_to_array(img)\n",
        "\n",
        "# Add a fourth dimension (since Keras expects a list of images)\n",
        "x = np.expand_dims(x, axis=0)\n",
        "\n",
        "# Normalize the input image's pixel values to the range used when training the neural network\n",
        "x = vgg19.preprocess_input(x)\n",
        "\n",
        "# Run the image through the deep neural network to make a prediction\n",
        "predictions = model_1.predict(x)\n",
        "\n",
        "\n",
        "# Look up the names of the predicted classes. Index zero is the results for the first image.\n",
        "predicted_classes = vgg19.decode_predictions(predictions, top=9)\n",
        "\n",
        "\n",
        "print(\"Top predictions for this image:\")\n",
        "\n",
        "for imagenet_id, name, likelihood in predicted_classes[0]:\n",
        "    print(\"Prediction: {} - {:2f}\".format(name, likelihood))\n"
      ],
      "execution_count": null,
      "outputs": [
        {
          "output_type": "stream",
          "name": "stdout",
          "text": [
            "Top predictions for this image:\n",
            "Prediction: chow - 0.934185\n",
            "Prediction: Pomeranian - 0.020291\n",
            "Prediction: Norfolk_terrier - 0.016889\n",
            "Prediction: Norwich_terrier - 0.006801\n",
            "Prediction: Pekinese - 0.002540\n",
            "Prediction: Persian_cat - 0.002362\n",
            "Prediction: keeshond - 0.001866\n",
            "Prediction: Brabancon_griffon - 0.001305\n",
            "Prediction: wire-haired_fox_terrier - 0.001079\n"
          ]
        }
      ]
    },
    {
      "cell_type": "code",
      "metadata": {
        "colab": {
          "base_uri": "https://localhost:8080/"
        },
        "id": "sJeR-E7jTVRW",
        "outputId": "2b1eb357-0fd2-4310-9d20-0575d1f46b9a"
      },
      "source": [
        "predictions_2 = model_2.predict(x)\n",
        "predicted_classes_2 = vgg16.decode_predictions(predictions_2, top=9)\n",
        "\n",
        "\n",
        "print(\"Top predictions for this image:\")\n",
        "\n",
        "for imagenet_id, name, likelihood in predicted_classes_2[0]:\n",
        "    print(\"Prediction: {} - {:2f}\".format(name, likelihood))"
      ],
      "execution_count": null,
      "outputs": [
        {
          "output_type": "stream",
          "name": "stdout",
          "text": [
            "Top predictions for this image:\n",
            "Prediction: Norfolk_terrier - 0.107558\n",
            "Prediction: wire-haired_fox_terrier - 0.079003\n",
            "Prediction: Old_English_sheepdog - 0.060919\n",
            "Prediction: Norwich_terrier - 0.050695\n",
            "Prediction: Sealyham_terrier - 0.046380\n",
            "Prediction: Irish_terrier - 0.042871\n",
            "Prediction: Lakeland_terrier - 0.041250\n",
            "Prediction: window_screen - 0.035481\n",
            "Prediction: otterhound - 0.029115\n"
          ]
        }
      ]
    },
    {
      "cell_type": "code",
      "metadata": {
        "id": "2NjH3kh3T1eX"
      },
      "source": [
        ""
      ],
      "execution_count": null,
      "outputs": []
    }
  ]
}